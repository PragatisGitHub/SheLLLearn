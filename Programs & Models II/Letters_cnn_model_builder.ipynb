{
 "cells": [
  {
   "cell_type": "code",
   "execution_count": 1,
   "metadata": {},
   "outputs": [],
   "source": [
    "# Convolutional Neural Network for multi-class softmax classification"
   ]
  },
  {
   "cell_type": "code",
   "execution_count": 2,
   "metadata": {},
   "outputs": [],
   "source": [
    "# Import the dependencies\n",
    "\n",
    "%matplotlib inline\n",
    "import matplotlib.pyplot as plt #For plots\n",
    "import pandas as pd #For Dataframes\n",
    "import numpy as np #For scientific computing "
   ]
  },
  {
   "cell_type": "code",
   "execution_count": 3,
   "metadata": {},
   "outputs": [
    {
     "name": "stderr",
     "output_type": "stream",
     "text": [
      "C:\\Anaconda3\\lib\\site-packages\\h5py\\__init__.py:36: FutureWarning: Conversion of the second argument of issubdtype from `float` to `np.floating` is deprecated. In future, it will be treated as `np.float64 == np.dtype(float).type`.\n",
      "  from ._conv import register_converters as _register_converters\n",
      "Using TensorFlow backend.\n"
     ]
    }
   ],
   "source": [
    "# Import Keras dependencies\n",
    "\n",
    "import keras\n",
    "\n",
    "from keras.models import Sequential, load_model\n",
    "from keras.utils import to_categorical\n",
    "from keras.layers import Conv2D, MaxPooling2D, Dropout, Flatten, Dense\n",
    "from keras.callbacks import ModelCheckpoint\n",
    "from keras import backend as K"
   ]
  },
  {
   "cell_type": "code",
   "execution_count": 4,
   "metadata": {},
   "outputs": [],
   "source": [
    "batch_size = 256\n",
    "num_classes = 26\n",
    "epochs = 10\n",
    "img_rows, img_cols = 28, 28    # Input image dimensions"
   ]
  },
  {
   "cell_type": "code",
   "execution_count": 5,
   "metadata": {},
   "outputs": [],
   "source": [
    "Emnist_file_path = \"emnist/\""
   ]
  },
  {
   "cell_type": "code",
   "execution_count": 6,
   "metadata": {},
   "outputs": [],
   "source": [
    "# Mapping file for ascii to alphabet mapping\n",
    "\n",
    "mapping_file = Emnist_file_path + 'emnist-letters-mapping.txt'"
   ]
  },
  {
   "cell_type": "code",
   "execution_count": 7,
   "metadata": {},
   "outputs": [],
   "source": [
    "# Reading the file into a list\n",
    "\n",
    "with open(mapping_file, 'r') as fin: \n",
    "    mapping = fin.readlines() \n",
    "    \n",
    "# Creating an ascii dictionary\n",
    "\n",
    "ascii_map = {} \n",
    "for line in mapping: \n",
    "    char_class = int(line.split()[0]) \n",
    "    letter = chr(int(line.split()[1])) \n",
    "    ascii_map[char_class] = letter"
   ]
  },
  {
   "cell_type": "code",
   "execution_count": 8,
   "metadata": {},
   "outputs": [],
   "source": [
    "All_train = Emnist_file_path + 'emnist-letters-train.csv'\n",
    "All_test = Emnist_file_path + 'emnist-letters-test.csv'"
   ]
  },
  {
   "cell_type": "code",
   "execution_count": 9,
   "metadata": {},
   "outputs": [],
   "source": [
    "All_train_data = pd.read_csv(All_train)\n",
    "All_test_data = pd.read_csv(All_test)"
   ]
  },
  {
   "cell_type": "code",
   "execution_count": 10,
   "metadata": {},
   "outputs": [],
   "source": [
    "All_training_data = All_train_data.values\n",
    "All_testing_data = All_test_data.values"
   ]
  },
  {
   "cell_type": "code",
   "execution_count": 11,
   "metadata": {},
   "outputs": [
    {
     "name": "stdout",
     "output_type": "stream",
     "text": [
      "<class 'numpy.ndarray'>\n",
      "<class 'numpy.ndarray'>\n",
      "(88799, 785)\n",
      "(14799, 785)\n"
     ]
    }
   ],
   "source": [
    "print(type(All_training_data))\n",
    "print(type(All_testing_data))\n",
    "print(All_training_data.shape)\n",
    "print(All_testing_data.shape)"
   ]
  },
  {
   "cell_type": "code",
   "execution_count": 12,
   "metadata": {},
   "outputs": [
    {
     "name": "stdout",
     "output_type": "stream",
     "text": [
      "x_train shape :  (88799, 784)\n",
      "y_train shape :  (88799, 1)\n"
     ]
    }
   ],
   "source": [
    "x_train = All_training_data[:, 1:].astype('float32')\n",
    "y_train = All_training_data[:, 0:1]\n",
    "print('x_train shape : ', x_train.shape)\n",
    "print('y_train shape : ', y_train.shape)"
   ]
  },
  {
   "cell_type": "code",
   "execution_count": 13,
   "metadata": {},
   "outputs": [
    {
     "name": "stdout",
     "output_type": "stream",
     "text": [
      "x_test shape :  (14799, 784)\n",
      "y_test shape :  (14799, 1)\n"
     ]
    }
   ],
   "source": [
    "x_test = All_testing_data[:, 1:].astype('float32')\n",
    "y_test = All_testing_data[:, 0:1]\n",
    "print('x_test shape : ', x_test.shape)\n",
    "print('y_test shape : ', y_test.shape)"
   ]
  },
  {
   "cell_type": "code",
   "execution_count": 14,
   "metadata": {},
   "outputs": [],
   "source": [
    "# for conv2d\n",
    "x_train = np.array(list(map(lambda x : x.reshape(28, 28).transpose().reshape(28, 28, 1), x_train)))\n",
    "x_test = np.array(list(map(lambda x : x.reshape(28, 28).transpose().reshape(28, 28, 1), x_test)))"
   ]
  },
  {
   "cell_type": "code",
   "execution_count": 15,
   "metadata": {},
   "outputs": [],
   "source": [
    "input_shape = (img_rows, img_cols, 1)"
   ]
  },
  {
   "cell_type": "code",
   "execution_count": 16,
   "metadata": {},
   "outputs": [
    {
     "name": "stdout",
     "output_type": "stream",
     "text": [
      "<class 'numpy.ndarray'>\n",
      "x_train shape :  (88799, 28, 28, 1)\n"
     ]
    }
   ],
   "source": [
    "print(type(x_train))\n",
    "print('x_train shape : ', x_train.shape)"
   ]
  },
  {
   "cell_type": "code",
   "execution_count": 17,
   "metadata": {},
   "outputs": [
    {
     "name": "stdout",
     "output_type": "stream",
     "text": [
      "<class 'numpy.ndarray'>\n",
      "x_test shape :  (14799, 28, 28, 1)\n"
     ]
    }
   ],
   "source": [
    "print(type(x_test))\n",
    "print('x_test shape : ', x_test.shape)"
   ]
  },
  {
   "cell_type": "code",
   "execution_count": null,
   "metadata": {},
   "outputs": [],
   "source": [
    "# Print the i data \n",
    "i = 90089\n",
    "plt.imshow(x_test[i].reshape(28, 28),cmap='gray')\n",
    "plt.colorbar()\n",
    "print('data ', i, ' : ', y_test[i])"
   ]
  },
  {
   "cell_type": "code",
   "execution_count": 18,
   "metadata": {},
   "outputs": [],
   "source": [
    "# Make it 0 based indices\n",
    "\n",
    "y_train = y_train - 1\n",
    "y_test = y_test - 1"
   ]
  },
  {
   "cell_type": "code",
   "execution_count": 19,
   "metadata": {},
   "outputs": [],
   "source": [
    "# Scale from 0 to 255\n",
    "\n",
    "x_train /= 255\n",
    "x_test /= 255"
   ]
  },
  {
   "cell_type": "code",
   "execution_count": 20,
   "metadata": {},
   "outputs": [],
   "source": [
    "# Convert labels to categorical one-hot encoding\n",
    "\n",
    "y_train = keras.utils.to_categorical(y_train, num_classes)\n",
    "y_test = keras.utils.to_categorical(y_test, num_classes)"
   ]
  },
  {
   "cell_type": "code",
   "execution_count": 21,
   "metadata": {},
   "outputs": [],
   "source": [
    "# Set the CNN Architecture\n",
    "\n",
    "model = Sequential()\n",
    "model.add(Conv2D(32, kernel_size=(3, 3), activation='relu',input_shape=input_shape))\n",
    "# filters: Integer (Here 32), the dimensionality of the output space (i.e. the number of output filters in the convolution).\n",
    "# kernel_size: An integer or tuple/list of 2 integers, specifying the height and width of the 2D convolution window. \n",
    "# Can be a single integer to specify the same value for all spatial dimensions.\n",
    "model.add(Conv2D(64, (3, 3), activation='relu'))\n",
    "model.add(MaxPooling2D(pool_size=(2, 2)))\n",
    "model.add(Dropout(0.25))\n",
    "model.add(Flatten())\n",
    "model.add(Dense(512, activation='relu'))\n",
    "model.add(Dropout(0.25))\n",
    "model.add(Dense(512, activation='relu'))\n",
    "model.add(Dropout(0.25))\n",
    "model.add(Dense(num_classes, activation='softmax'))"
   ]
  },
  {
   "cell_type": "code",
   "execution_count": 22,
   "metadata": {},
   "outputs": [],
   "source": [
    "# Compile the Model\n",
    "\n",
    "model.compile(loss=keras.losses.categorical_crossentropy, optimizer=keras.optimizers.adam(), metrics=['accuracy'])"
   ]
  },
  {
   "cell_type": "code",
   "execution_count": 23,
   "metadata": {},
   "outputs": [
    {
     "name": "stdout",
     "output_type": "stream",
     "text": [
      "_________________________________________________________________\n",
      "Layer (type)                 Output Shape              Param #   \n",
      "=================================================================\n",
      "conv2d_1 (Conv2D)            (None, 26, 26, 32)        320       \n",
      "_________________________________________________________________\n",
      "conv2d_2 (Conv2D)            (None, 24, 24, 64)        18496     \n",
      "_________________________________________________________________\n",
      "max_pooling2d_1 (MaxPooling2 (None, 12, 12, 64)        0         \n",
      "_________________________________________________________________\n",
      "dropout_1 (Dropout)          (None, 12, 12, 64)        0         \n",
      "_________________________________________________________________\n",
      "flatten_1 (Flatten)          (None, 9216)              0         \n",
      "_________________________________________________________________\n",
      "dense_1 (Dense)              (None, 512)               4719104   \n",
      "_________________________________________________________________\n",
      "dropout_2 (Dropout)          (None, 512)               0         \n",
      "_________________________________________________________________\n",
      "dense_2 (Dense)              (None, 512)               262656    \n",
      "_________________________________________________________________\n",
      "dropout_3 (Dropout)          (None, 512)               0         \n",
      "_________________________________________________________________\n",
      "dense_3 (Dense)              (None, 26)                13338     \n",
      "=================================================================\n",
      "Total params: 5,013,914\n",
      "Trainable params: 5,013,914\n",
      "Non-trainable params: 0\n",
      "_________________________________________________________________\n"
     ]
    }
   ],
   "source": [
    "# Summarize our model\n",
    "\n",
    "model.summary()"
   ]
  },
  {
   "cell_type": "code",
   "execution_count": 24,
   "metadata": {},
   "outputs": [
    {
     "name": "stdout",
     "output_type": "stream",
     "text": [
      "Before Training - Test accuracy: 4.4868%\n"
     ]
    }
   ],
   "source": [
    "# Calculate the Classification Accuracy on the Test Set (Before Training)\n",
    "\n",
    "score = model.evaluate(x_test, y_test, verbose=0)\n",
    "accuracy = 100*score[1]\n",
    "print('Before Training - Test accuracy: %.4f%%' % accuracy)"
   ]
  },
  {
   "cell_type": "code",
   "execution_count": 25,
   "metadata": {},
   "outputs": [],
   "source": [
    "checkpointer = ModelCheckpoint(filepath='emnist.letters.cnn.model.best.hdf5',\n",
    "                               verbose=1, save_best_only=True)"
   ]
  },
  {
   "cell_type": "code",
   "execution_count": 26,
   "metadata": {},
   "outputs": [
    {
     "name": "stdout",
     "output_type": "stream",
     "text": [
      "Train on 71039 samples, validate on 17760 samples\n",
      "Epoch 1/10\n",
      "\n",
      "Epoch 00001: val_loss improved from inf to 0.29863, saving model to emnist.letters.cnn.model.best.hdf5\n",
      "Epoch 2/10\n",
      "\n",
      "Epoch 00002: val_loss improved from 0.29863 to 0.24443, saving model to emnist.letters.cnn.model.best.hdf5\n",
      "Epoch 3/10\n",
      "\n",
      "Epoch 00003: val_loss improved from 0.24443 to 0.23829, saving model to emnist.letters.cnn.model.best.hdf5\n",
      "Epoch 4/10\n",
      "\n",
      "Epoch 00004: val_loss improved from 0.23829 to 0.21700, saving model to emnist.letters.cnn.model.best.hdf5\n",
      "Epoch 5/10\n",
      "\n",
      "Epoch 00005: val_loss improved from 0.21700 to 0.21292, saving model to emnist.letters.cnn.model.best.hdf5\n",
      "Epoch 6/10\n",
      "\n",
      "Epoch 00006: val_loss improved from 0.21292 to 0.20736, saving model to emnist.letters.cnn.model.best.hdf5\n",
      "Epoch 7/10\n",
      "\n",
      "Epoch 00007: val_loss improved from 0.20736 to 0.20527, saving model to emnist.letters.cnn.model.best.hdf5\n",
      "Epoch 8/10\n",
      "\n",
      "Epoch 00008: val_loss did not improve from 0.20527\n",
      "Epoch 9/10\n",
      "\n",
      "Epoch 00009: val_loss did not improve from 0.20527\n",
      "Epoch 10/10\n",
      "\n",
      "Epoch 00010: val_loss did not improve from 0.20527\n"
     ]
    }
   ],
   "source": [
    "# Train the model, iterating on the data in batches of 256 samples with epochs 10\n",
    "\n",
    "Trained_Model = model.fit(x_train, y_train, batch_size=batch_size, epochs=10,\n",
    "          validation_split=0.2, callbacks=[checkpointer],\n",
    "          verbose=3, shuffle=True)"
   ]
  },
  {
   "cell_type": "code",
   "execution_count": 27,
   "metadata": {},
   "outputs": [],
   "source": [
    "# Load the Model with the Best Classification Accuracy on the Validation Set\n",
    "\n",
    "model.load_weights('emnist.letters.cnn.model.best.hdf5')"
   ]
  },
  {
   "cell_type": "code",
   "execution_count": 28,
   "metadata": {},
   "outputs": [],
   "source": [
    "# Save the best model\n",
    "\n",
    "model.save('eminst_letters_cnn_model.h5')"
   ]
  },
  {
   "cell_type": "code",
   "execution_count": 33,
   "metadata": {},
   "outputs": [
    {
     "name": "stdout",
     "output_type": "stream",
     "text": [
      "Test accuracy: 92.2157%\n",
      "Test loss: 23.9659%\n"
     ]
    }
   ],
   "source": [
    "# Evaluate test accuracy\n",
    "\n",
    "score = model.evaluate(x_test, y_test, verbose=0)\n",
    "\n",
    "accuracy = 100*score[1]\n",
    "loss = 100*score[0]\n",
    "\n",
    "print('Test accuracy: %.4f%%' % accuracy)\n",
    "print('Test loss: %.4f%%' % loss)"
   ]
  },
  {
   "cell_type": "code",
   "execution_count": 31,
   "metadata": {},
   "outputs": [
    {
     "data": {
      "image/png": "[encoded data removed]",
      "text/plain": [
       "<Figure size 432x288 with 1 Axes>"
      ]
     },
     "metadata": {},
     "output_type": "display_data"
    }
   ],
   "source": [
    "# summarize history for accuracy\n",
    "plt.plot(Trained_Model.history['acc'])\n",
    "plt.plot(Trained_Model.history['val_acc'])\n",
    "plt.title('Model accuracy')\n",
    "plt.ylabel('accuracy')\n",
    "plt.xlabel('epoch')\n",
    "plt.legend(['train', 'test'], loc='upper left')\n",
    "plt.show()"
   ]
  },
  {
   "cell_type": "code",
   "execution_count": 32,
   "metadata": {},
   "outputs": [
    {
     "data": {
      "image/png": "[encoded data removed]",
      "text/plain": [
       "<Figure size 432x288 with 1 Axes>"
      ]
     },
     "metadata": {},
     "output_type": "display_data"
    }
   ],
   "source": [
    "# summarize history for loss\n",
    "plt.plot(Trained_Model.history['loss'])\n",
    "plt.plot(Trained_Model.history['val_loss'])\n",
    "plt.title('Model loss')\n",
    "plt.ylabel('loss')\n",
    "plt.xlabel('epoch')\n",
    "plt.legend(['train', 'test'], loc='upper left')\n",
    "plt.show()"
   ]
  },
  {
   "cell_type": "markdown",
   "metadata": {},
   "source": [
    "## Making Predictions\n",
    "We can use our trained model to make predictions using model.predict"
   ]
  },
  {
   "cell_type": "code",
   "execution_count": 38,
   "metadata": {},
   "outputs": [
    {
     "data": {
      "text/plain": [
       "(1, 28, 28, 1)"
      ]
     },
     "execution_count": 38,
     "metadata": {},
     "output_type": "execute_result"
    }
   ],
   "source": [
    "i = 5678\n",
    "test = np.expand_dims(x_train[i], axis=0)\n",
    "test.shape"
   ]
  },
  {
   "cell_type": "code",
   "execution_count": 40,
   "metadata": {},
   "outputs": [
    {
     "name": "stdout",
     "output_type": "stream",
     "text": [
      "data  5678  :  [0. 0. 0. 0. 0. 0. 0. 1. 0. 0. 0. 0. 0. 0. 0. 0. 0. 0. 0. 0. 0. 0. 0. 0.\n",
      " 0. 0.]\n"
     ]
    },
    {
     "data": {
      "image/png": "[encoded data removed]",
      "text/plain": [
       "<Figure size 432x288 with 2 Axes>"
      ]
     },
     "metadata": {},
     "output_type": "display_data"
    }
   ],
   "source": [
    "# Print the i data \n",
    "i = 5678\n",
    "plt.imshow(x_test[i].reshape(28, 28),cmap='gray')\n",
    "plt.colorbar()\n",
    "print('data ', i, ' : ', y_test[i])"
   ]
  },
  {
   "cell_type": "code",
   "execution_count": 41,
   "metadata": {},
   "outputs": [
    {
     "name": "stdout",
     "output_type": "stream",
     "text": [
      "One-Hot-Encoded Prediction: [[0. 0. 0. 0. 0. 0. 0. 0. 0. 0. 0. 1. 0. 0. 0. 0. 0. 0. 0. 0. 0. 0. 0. 0.\n",
      "  0. 0.]]\n",
      "Predicted class: [11]\n"
     ]
    }
   ],
   "source": [
    "# Make a prediction. The resulting class should match the digit\n",
    "print(f\"One-Hot-Encoded Prediction: {model.predict(test).round()}\")\n",
    "print(f\"Predicted class: {model.predict_classes(test)}\")"
   ]
  },
  {
   "cell_type": "code",
   "execution_count": 42,
   "metadata": {},
   "outputs": [],
   "source": [
    "filepath = \"uploads/LetterX.png\""
   ]
  },
  {
   "cell_type": "code",
   "execution_count": 74,
   "metadata": {},
   "outputs": [
    {
     "name": "stderr",
     "output_type": "stream",
     "text": [
      "C:\\Anaconda3\\lib\\site-packages\\keras_preprocessing\\image.py:492: UserWarning: grayscale is deprecated. Please use color_mode = \"grayscale\"\n",
      "  warnings.warn('grayscale is deprecated. Please use '\n"
     ]
    },
    {
     "data": {
      "image/png": "[encoded data removed]",
      "text/plain": [
       "<PIL.Image.Image image mode=L size=28x28 at 0x23D093E7128>"
      ]
     },
     "execution_count": 74,
     "metadata": {},
     "output_type": "execute_result"
    }
   ],
   "source": [
    "from keras.preprocessing import image\n",
    "image_size = (28, 28)\n",
    "im = image.load_img(filepath, target_size=image_size, grayscale=True)\n",
    "im"
   ]
  },
  {
   "cell_type": "code",
   "execution_count": 75,
   "metadata": {},
   "outputs": [],
   "source": [
    "# image = np.expand_dims(im, axis=0)\n",
    "# image.shape"
   ]
  },
  {
   "cell_type": "code",
   "execution_count": 76,
   "metadata": {},
   "outputs": [
    {
     "data": {
      "text/plain": [
       "(28, 28, 1)"
      ]
     },
     "execution_count": 76,
     "metadata": {},
     "output_type": "execute_result"
    }
   ],
   "source": [
    "# Convert the image to a numpy array \n",
    "from keras.preprocessing.image import img_to_array\n",
    "image = img_to_array(im)\n",
    "image.shape"
   ]
  },
  {
   "cell_type": "code",
   "execution_count": 77,
   "metadata": {},
   "outputs": [
    {
     "data": {
      "text/plain": [
       "(1, 28, 28, 1)"
      ]
     },
     "execution_count": 77,
     "metadata": {},
     "output_type": "execute_result"
    }
   ],
   "source": [
    "image = np.expand_dims(image, axis=0)\n",
    "image.shape"
   ]
  },
  {
   "cell_type": "code",
   "execution_count": 78,
   "metadata": {},
   "outputs": [
    {
     "data": {
      "text/plain": [
       "array([[[[1.        ],\n",
       "         [1.        ],\n",
       "         [1.        ],\n",
       "         [1.        ],\n",
       "         [1.        ],\n",
       "         [1.        ],\n",
       "         [1.        ],\n",
       "         [1.        ],\n",
       "         [1.        ],\n",
       "         [1.        ],\n",
       "         [1.        ],\n",
       "         [1.        ],\n",
       "         [1.        ],\n",
       "         [1.        ],\n",
       "         [1.        ],\n",
       "         [1.        ],\n",
       "         [1.        ],\n",
       "         [1.        ],\n",
       "         [1.        ],\n",
       "         [1.        ],\n",
       "         [1.        ],\n",
       "         [1.        ],\n",
       "         [1.        ],\n",
       "         [1.        ],\n",
       "         [1.        ],\n",
       "         [1.        ],\n",
       "         [1.        ],\n",
       "         [1.        ]],\n",
       "\n",
       "        [[1.        ],\n",
       "         [1.        ],\n",
       "         [1.        ],\n",
       "         [1.        ],\n",
       "         [1.        ],\n",
       "         [1.        ],\n",
       "         [1.        ],\n",
       "         [1.        ],\n",
       "         [1.        ],\n",
       "         [1.        ],\n",
       "         [1.        ],\n",
       "         [1.        ],\n",
       "         [1.        ],\n",
       "         [1.        ],\n",
       "         [1.        ],\n",
       "         [1.        ],\n",
       "         [1.        ],\n",
       "         [1.        ],\n",
       "         [1.        ],\n",
       "         [1.        ],\n",
       "         [1.        ],\n",
       "         [1.        ],\n",
       "         [1.        ],\n",
       "         [1.        ],\n",
       "         [1.        ],\n",
       "         [1.        ],\n",
       "         [1.        ],\n",
       "         [1.        ]],\n",
       "\n",
       "        [[1.        ],\n",
       "         [1.        ],\n",
       "         [1.        ],\n",
       "         [1.        ],\n",
       "         [1.        ],\n",
       "         [1.        ],\n",
       "         [1.        ],\n",
       "         [1.        ],\n",
       "         [1.        ],\n",
       "         [1.        ],\n",
       "         [1.        ],\n",
       "         [1.        ],\n",
       "         [1.        ],\n",
       "         [1.        ],\n",
       "         [1.        ],\n",
       "         [1.        ],\n",
       "         [1.        ],\n",
       "         [1.        ],\n",
       "         [0.24705882],\n",
       "         [1.        ],\n",
       "         [1.        ],\n",
       "         [1.        ],\n",
       "         [1.        ],\n",
       "         [1.        ],\n",
       "         [1.        ],\n",
       "         [1.        ],\n",
       "         [1.        ],\n",
       "         [1.        ]],\n",
       "\n",
       "        [[1.        ],\n",
       "         [1.        ],\n",
       "         [1.        ],\n",
       "         [1.        ],\n",
       "         [1.        ],\n",
       "         [1.        ],\n",
       "         [1.        ],\n",
       "         [1.        ],\n",
       "         [0.24705882],\n",
       "         [1.        ],\n",
       "         [1.        ],\n",
       "         [1.        ],\n",
       "         [1.        ],\n",
       "         [1.        ],\n",
       "         [1.        ],\n",
       "         [1.        ],\n",
       "         [1.        ],\n",
       "         [1.        ],\n",
       "         [0.24705882],\n",
       "         [1.        ],\n",
       "         [1.        ],\n",
       "         [1.        ],\n",
       "         [1.        ],\n",
       "         [1.        ],\n",
       "         [1.        ],\n",
       "         [1.        ],\n",
       "         [1.        ],\n",
       "         [1.        ]],\n",
       "\n",
       "        [[1.        ],\n",
       "         [1.        ],\n",
       "         [1.        ],\n",
       "         [1.        ],\n",
       "         [1.        ],\n",
       "         [1.        ],\n",
       "         [1.        ],\n",
       "         [1.        ],\n",
       "         [1.        ],\n",
       "         [0.24705882],\n",
       "         [1.        ],\n",
       "         [1.        ],\n",
       "         [1.        ],\n",
       "         [1.        ],\n",
       "         [1.        ],\n",
       "         [1.        ],\n",
       "         [1.        ],\n",
       "         [0.24705882],\n",
       "         [1.        ],\n",
       "         [1.        ],\n",
       "         [1.        ],\n",
       "         [1.        ],\n",
       "         [1.        ],\n",
       "         [1.        ],\n",
       "         [1.        ],\n",
       "         [1.        ],\n",
       "         [1.        ],\n",
       "         [1.        ]],\n",
       "\n",
       "        [[1.        ],\n",
       "         [1.        ],\n",
       "         [1.        ],\n",
       "         [1.        ],\n",
       "         [1.        ],\n",
       "         [1.        ],\n",
       "         [1.        ],\n",
       "         [1.        ],\n",
       "         [1.        ],\n",
       "         [0.24705882],\n",
       "         [1.        ],\n",
       "         [1.        ],\n",
       "         [1.        ],\n",
       "         [1.        ],\n",
       "         [1.        ],\n",
       "         [1.        ],\n",
       "         [1.        ],\n",
       "         [0.24705882],\n",
       "         [1.        ],\n",
       "         [1.        ],\n",
       "         [1.        ],\n",
       "         [1.        ],\n",
       "         [1.        ],\n",
       "         [1.        ],\n",
       "         [1.        ],\n",
       "         [1.        ],\n",
       "         [1.        ],\n",
       "         [1.        ]],\n",
       "\n",
       "        [[1.        ],\n",
       "         [1.        ],\n",
       "         [1.        ],\n",
       "         [1.        ],\n",
       "         [1.        ],\n",
       "         [1.        ],\n",
       "         [1.        ],\n",
       "         [1.        ],\n",
       "         [1.        ],\n",
       "         [1.        ],\n",
       "         [0.24705882],\n",
       "         [1.        ],\n",
       "         [1.        ],\n",
       "         [1.        ],\n",
       "         [1.        ],\n",
       "         [1.        ],\n",
       "         [0.24705882],\n",
       "         [1.        ],\n",
       "         [1.        ],\n",
       "         [1.        ],\n",
       "         [1.        ],\n",
       "         [1.        ],\n",
       "         [1.        ],\n",
       "         [1.        ],\n",
       "         [1.        ],\n",
       "         [1.        ],\n",
       "         [1.        ],\n",
       "         [1.        ]],\n",
       "\n",
       "        [[1.        ],\n",
       "         [1.        ],\n",
       "         [1.        ],\n",
       "         [1.        ],\n",
       "         [1.        ],\n",
       "         [1.        ],\n",
       "         [1.        ],\n",
       "         [1.        ],\n",
       "         [1.        ],\n",
       "         [1.        ],\n",
       "         [1.        ],\n",
       "         [0.24705882],\n",
       "         [1.        ],\n",
       "         [1.        ],\n",
       "         [1.        ],\n",
       "         [1.        ],\n",
       "         [0.24705882],\n",
       "         [1.        ],\n",
       "         [1.        ],\n",
       "         [1.        ],\n",
       "         [1.        ],\n",
       "         [1.        ],\n",
       "         [1.        ],\n",
       "         [1.        ],\n",
       "         [1.        ],\n",
       "         [1.        ],\n",
       "         [1.        ],\n",
       "         [1.        ]],\n",
       "\n",
       "        [[1.        ],\n",
       "         [1.        ],\n",
       "         [1.        ],\n",
       "         [1.        ],\n",
       "         [1.        ],\n",
       "         [1.        ],\n",
       "         [1.        ],\n",
       "         [1.        ],\n",
       "         [1.        ],\n",
       "         [1.        ],\n",
       "         [1.        ],\n",
       "         [0.24705882],\n",
       "         [0.24705882],\n",
       "         [1.        ],\n",
       "         [1.        ],\n",
       "         [1.        ],\n",
       "         [1.        ],\n",
       "         [1.        ],\n",
       "         [1.        ],\n",
       "         [1.        ],\n",
       "         [1.        ],\n",
       "         [1.        ],\n",
       "         [1.        ],\n",
       "         [1.        ],\n",
       "         [1.        ],\n",
       "         [1.        ],\n",
       "         [1.        ],\n",
       "         [1.        ]],\n",
       "\n",
       "        [[1.        ],\n",
       "         [1.        ],\n",
       "         [1.        ],\n",
       "         [1.        ],\n",
       "         [1.        ],\n",
       "         [1.        ],\n",
       "         [1.        ],\n",
       "         [1.        ],\n",
       "         [1.        ],\n",
       "         [1.        ],\n",
       "         [1.        ],\n",
       "         [1.        ],\n",
       "         [0.24705882],\n",
       "         [1.        ],\n",
       "         [1.        ],\n",
       "         [0.24705882],\n",
       "         [1.        ],\n",
       "         [1.        ],\n",
       "         [1.        ],\n",
       "         [1.        ],\n",
       "         [1.        ],\n",
       "         [1.        ],\n",
       "         [1.        ],\n",
       "         [1.        ],\n",
       "         [1.        ],\n",
       "         [1.        ],\n",
       "         [1.        ],\n",
       "         [1.        ]],\n",
       "\n",
       "        [[1.        ],\n",
       "         [1.        ],\n",
       "         [1.        ],\n",
       "         [1.        ],\n",
       "         [1.        ],\n",
       "         [1.        ],\n",
       "         [1.        ],\n",
       "         [1.        ],\n",
       "         [1.        ],\n",
       "         [1.        ],\n",
       "         [1.        ],\n",
       "         [1.        ],\n",
       "         [1.        ],\n",
       "         [0.2509804 ],\n",
       "         [1.        ],\n",
       "         [0.24705882],\n",
       "         [1.        ],\n",
       "         [1.        ],\n",
       "         [1.        ],\n",
       "         [1.        ],\n",
       "         [1.        ],\n",
       "         [1.        ],\n",
       "         [1.        ],\n",
       "         [1.        ],\n",
       "         [1.        ],\n",
       "         [1.        ],\n",
       "         [1.        ],\n",
       "         [1.        ]],\n",
       "\n",
       "        [[1.        ],\n",
       "         [1.        ],\n",
       "         [1.        ],\n",
       "         [1.        ],\n",
       "         [1.        ],\n",
       "         [1.        ],\n",
       "         [1.        ],\n",
       "         [1.        ],\n",
       "         [1.        ],\n",
       "         [1.        ],\n",
       "         [1.        ],\n",
       "         [1.        ],\n",
       "         [1.        ],\n",
       "         [0.24705882],\n",
       "         [0.24705882],\n",
       "         [1.        ],\n",
       "         [1.        ],\n",
       "         [1.        ],\n",
       "         [1.        ],\n",
       "         [1.        ],\n",
       "         [1.        ],\n",
       "         [1.        ],\n",
       "         [1.        ],\n",
       "         [1.        ],\n",
       "         [1.        ],\n",
       "         [1.        ],\n",
       "         [1.        ],\n",
       "         [1.        ]],\n",
       "\n",
       "        [[1.        ],\n",
       "         [1.        ],\n",
       "         [1.        ],\n",
       "         [1.        ],\n",
       "         [1.        ],\n",
       "         [1.        ],\n",
       "         [1.        ],\n",
       "         [1.        ],\n",
       "         [1.        ],\n",
       "         [1.        ],\n",
       "         [1.        ],\n",
       "         [1.        ],\n",
       "         [1.        ],\n",
       "         [1.        ],\n",
       "         [0.0627451 ],\n",
       "         [1.        ],\n",
       "         [1.        ],\n",
       "         [1.        ],\n",
       "         [1.        ],\n",
       "         [1.        ],\n",
       "         [1.        ],\n",
       "         [1.        ],\n",
       "         [1.        ],\n",
       "         [1.        ],\n",
       "         [1.        ],\n",
       "         [1.        ],\n",
       "         [1.        ],\n",
       "         [1.        ]],\n",
       "\n",
       "        [[1.        ],\n",
       "         [1.        ],\n",
       "         [1.        ],\n",
       "         [1.        ],\n",
       "         [1.        ],\n",
       "         [1.        ],\n",
       "         [1.        ],\n",
       "         [1.        ],\n",
       "         [1.        ],\n",
       "         [1.        ],\n",
       "         [1.        ],\n",
       "         [1.        ],\n",
       "         [1.        ],\n",
       "         [1.        ],\n",
       "         [0.24705882],\n",
       "         [0.24705882],\n",
       "         [1.        ],\n",
       "         [1.        ],\n",
       "         [1.        ],\n",
       "         [1.        ],\n",
       "         [1.        ],\n",
       "         [1.        ],\n",
       "         [1.        ],\n",
       "         [1.        ],\n",
       "         [1.        ],\n",
       "         [1.        ],\n",
       "         [1.        ],\n",
       "         [1.        ]],\n",
       "\n",
       "        [[1.        ],\n",
       "         [1.        ],\n",
       "         [1.        ],\n",
       "         [1.        ],\n",
       "         [1.        ],\n",
       "         [1.        ],\n",
       "         [1.        ],\n",
       "         [1.        ],\n",
       "         [1.        ],\n",
       "         [1.        ],\n",
       "         [1.        ],\n",
       "         [1.        ],\n",
       "         [1.        ],\n",
       "         [1.        ],\n",
       "         [1.        ],\n",
       "         [0.24705882],\n",
       "         [1.        ],\n",
       "         [1.        ],\n",
       "         [1.        ],\n",
       "         [1.        ],\n",
       "         [1.        ],\n",
       "         [1.        ],\n",
       "         [1.        ],\n",
       "         [1.        ],\n",
       "         [1.        ],\n",
       "         [1.        ],\n",
       "         [1.        ],\n",
       "         [1.        ]],\n",
       "\n",
       "        [[1.        ],\n",
       "         [1.        ],\n",
       "         [1.        ],\n",
       "         [1.        ],\n",
       "         [1.        ],\n",
       "         [1.        ],\n",
       "         [1.        ],\n",
       "         [1.        ],\n",
       "         [1.        ],\n",
       "         [1.        ],\n",
       "         [1.        ],\n",
       "         [1.        ],\n",
       "         [1.        ],\n",
       "         [0.24705882],\n",
       "         [1.        ],\n",
       "         [1.        ],\n",
       "         [0.24705882],\n",
       "         [1.        ],\n",
       "         [1.        ],\n",
       "         [1.        ],\n",
       "         [1.        ],\n",
       "         [1.        ],\n",
       "         [1.        ],\n",
       "         [1.        ],\n",
       "         [1.        ],\n",
       "         [1.        ],\n",
       "         [1.        ],\n",
       "         [1.        ]],\n",
       "\n",
       "        [[1.        ],\n",
       "         [1.        ],\n",
       "         [1.        ],\n",
       "         [1.        ],\n",
       "         [1.        ],\n",
       "         [1.        ],\n",
       "         [1.        ],\n",
       "         [1.        ],\n",
       "         [1.        ],\n",
       "         [1.        ],\n",
       "         [1.        ],\n",
       "         [1.        ],\n",
       "         [1.        ],\n",
       "         [0.24705882],\n",
       "         [1.        ],\n",
       "         [1.        ],\n",
       "         [0.24705882],\n",
       "         [1.        ],\n",
       "         [1.        ],\n",
       "         [1.        ],\n",
       "         [1.        ],\n",
       "         [1.        ],\n",
       "         [1.        ],\n",
       "         [1.        ],\n",
       "         [1.        ],\n",
       "         [1.        ],\n",
       "         [1.        ],\n",
       "         [1.        ]],\n",
       "\n",
       "        [[1.        ],\n",
       "         [1.        ],\n",
       "         [1.        ],\n",
       "         [1.        ],\n",
       "         [1.        ],\n",
       "         [1.        ],\n",
       "         [1.        ],\n",
       "         [1.        ],\n",
       "         [1.        ],\n",
       "         [1.        ],\n",
       "         [1.        ],\n",
       "         [1.        ],\n",
       "         [1.        ],\n",
       "         [0.24705882],\n",
       "         [1.        ],\n",
       "         [1.        ],\n",
       "         [1.        ],\n",
       "         [0.24705882],\n",
       "         [1.        ],\n",
       "         [1.        ],\n",
       "         [1.        ],\n",
       "         [1.        ],\n",
       "         [1.        ],\n",
       "         [1.        ],\n",
       "         [1.        ],\n",
       "         [1.        ],\n",
       "         [1.        ],\n",
       "         [1.        ]],\n",
       "\n",
       "        [[1.        ],\n",
       "         [1.        ],\n",
       "         [1.        ],\n",
       "         [1.        ],\n",
       "         [1.        ],\n",
       "         [1.        ],\n",
       "         [1.        ],\n",
       "         [1.        ],\n",
       "         [1.        ],\n",
       "         [1.        ],\n",
       "         [1.        ],\n",
       "         [1.        ],\n",
       "         [0.24705882],\n",
       "         [1.        ],\n",
       "         [1.        ],\n",
       "         [1.        ],\n",
       "         [1.        ],\n",
       "         [1.        ],\n",
       "         [0.24705882],\n",
       "         [1.        ],\n",
       "         [1.        ],\n",
       "         [1.        ],\n",
       "         [1.        ],\n",
       "         [1.        ],\n",
       "         [1.        ],\n",
       "         [1.        ],\n",
       "         [1.        ],\n",
       "         [1.        ]],\n",
       "\n",
       "        [[1.        ],\n",
       "         [1.        ],\n",
       "         [1.        ],\n",
       "         [1.        ],\n",
       "         [1.        ],\n",
       "         [1.        ],\n",
       "         [1.        ],\n",
       "         [1.        ],\n",
       "         [1.        ],\n",
       "         [1.        ],\n",
       "         [1.        ],\n",
       "         [1.        ],\n",
       "         [0.24705882],\n",
       "         [1.        ],\n",
       "         [1.        ],\n",
       "         [1.        ],\n",
       "         [1.        ],\n",
       "         [1.        ],\n",
       "         [0.24705882],\n",
       "         [1.        ],\n",
       "         [1.        ],\n",
       "         [1.        ],\n",
       "         [1.        ],\n",
       "         [1.        ],\n",
       "         [1.        ],\n",
       "         [1.        ],\n",
       "         [1.        ],\n",
       "         [1.        ]],\n",
       "\n",
       "        [[1.        ],\n",
       "         [1.        ],\n",
       "         [1.        ],\n",
       "         [1.        ],\n",
       "         [1.        ],\n",
       "         [1.        ],\n",
       "         [1.        ],\n",
       "         [1.        ],\n",
       "         [1.        ],\n",
       "         [1.        ],\n",
       "         [1.        ],\n",
       "         [1.        ],\n",
       "         [1.        ],\n",
       "         [1.        ],\n",
       "         [1.        ],\n",
       "         [1.        ],\n",
       "         [1.        ],\n",
       "         [1.        ],\n",
       "         [1.        ],\n",
       "         [0.24705882],\n",
       "         [1.        ],\n",
       "         [1.        ],\n",
       "         [1.        ],\n",
       "         [1.        ],\n",
       "         [1.        ],\n",
       "         [1.        ],\n",
       "         [1.        ],\n",
       "         [1.        ]],\n",
       "\n",
       "        [[1.        ],\n",
       "         [1.        ],\n",
       "         [1.        ],\n",
       "         [1.        ],\n",
       "         [1.        ],\n",
       "         [1.        ],\n",
       "         [1.        ],\n",
       "         [1.        ],\n",
       "         [1.        ],\n",
       "         [1.        ],\n",
       "         [1.        ],\n",
       "         [0.24705882],\n",
       "         [1.        ],\n",
       "         [1.        ],\n",
       "         [1.        ],\n",
       "         [1.        ],\n",
       "         [1.        ],\n",
       "         [1.        ],\n",
       "         [1.        ],\n",
       "         [0.24705882],\n",
       "         [1.        ],\n",
       "         [1.        ],\n",
       "         [1.        ],\n",
       "         [1.        ],\n",
       "         [1.        ],\n",
       "         [1.        ],\n",
       "         [1.        ],\n",
       "         [1.        ]],\n",
       "\n",
       "        [[1.        ],\n",
       "         [1.        ],\n",
       "         [1.        ],\n",
       "         [1.        ],\n",
       "         [1.        ],\n",
       "         [1.        ],\n",
       "         [1.        ],\n",
       "         [1.        ],\n",
       "         [1.        ],\n",
       "         [1.        ],\n",
       "         [1.        ],\n",
       "         [0.24705882],\n",
       "         [1.        ],\n",
       "         [1.        ],\n",
       "         [1.        ],\n",
       "         [1.        ],\n",
       "         [1.        ],\n",
       "         [1.        ],\n",
       "         [1.        ],\n",
       "         [1.        ],\n",
       "         [0.24705882],\n",
       "         [1.        ],\n",
       "         [1.        ],\n",
       "         [1.        ],\n",
       "         [1.        ],\n",
       "         [1.        ],\n",
       "         [1.        ],\n",
       "         [1.        ]],\n",
       "\n",
       "        [[1.        ],\n",
       "         [1.        ],\n",
       "         [1.        ],\n",
       "         [1.        ],\n",
       "         [1.        ],\n",
       "         [1.        ],\n",
       "         [1.        ],\n",
       "         [1.        ],\n",
       "         [1.        ],\n",
       "         [1.        ],\n",
       "         [1.        ],\n",
       "         [1.        ],\n",
       "         [1.        ],\n",
       "         [1.        ],\n",
       "         [1.        ],\n",
       "         [1.        ],\n",
       "         [1.        ],\n",
       "         [1.        ],\n",
       "         [1.        ],\n",
       "         [1.        ],\n",
       "         [0.24705882],\n",
       "         [1.        ],\n",
       "         [1.        ],\n",
       "         [1.        ],\n",
       "         [1.        ],\n",
       "         [1.        ],\n",
       "         [1.        ],\n",
       "         [1.        ]],\n",
       "\n",
       "        [[1.        ],\n",
       "         [1.        ],\n",
       "         [1.        ],\n",
       "         [1.        ],\n",
       "         [1.        ],\n",
       "         [1.        ],\n",
       "         [1.        ],\n",
       "         [1.        ],\n",
       "         [1.        ],\n",
       "         [1.        ],\n",
       "         [1.        ],\n",
       "         [1.        ],\n",
       "         [1.        ],\n",
       "         [1.        ],\n",
       "         [1.        ],\n",
       "         [1.        ],\n",
       "         [1.        ],\n",
       "         [1.        ],\n",
       "         [1.        ],\n",
       "         [1.        ],\n",
       "         [1.        ],\n",
       "         [1.        ],\n",
       "         [1.        ],\n",
       "         [1.        ],\n",
       "         [1.        ],\n",
       "         [1.        ],\n",
       "         [1.        ],\n",
       "         [1.        ]],\n",
       "\n",
       "        [[1.        ],\n",
       "         [1.        ],\n",
       "         [1.        ],\n",
       "         [1.        ],\n",
       "         [1.        ],\n",
       "         [1.        ],\n",
       "         [1.        ],\n",
       "         [1.        ],\n",
       "         [1.        ],\n",
       "         [1.        ],\n",
       "         [1.        ],\n",
       "         [1.        ],\n",
       "         [1.        ],\n",
       "         [1.        ],\n",
       "         [1.        ],\n",
       "         [1.        ],\n",
       "         [1.        ],\n",
       "         [1.        ],\n",
       "         [1.        ],\n",
       "         [1.        ],\n",
       "         [1.        ],\n",
       "         [1.        ],\n",
       "         [1.        ],\n",
       "         [1.        ],\n",
       "         [1.        ],\n",
       "         [1.        ],\n",
       "         [1.        ],\n",
       "         [1.        ]],\n",
       "\n",
       "        [[1.        ],\n",
       "         [1.        ],\n",
       "         [1.        ],\n",
       "         [1.        ],\n",
       "         [1.        ],\n",
       "         [1.        ],\n",
       "         [1.        ],\n",
       "         [1.        ],\n",
       "         [1.        ],\n",
       "         [1.        ],\n",
       "         [1.        ],\n",
       "         [1.        ],\n",
       "         [1.        ],\n",
       "         [1.        ],\n",
       "         [1.        ],\n",
       "         [1.        ],\n",
       "         [1.        ],\n",
       "         [1.        ],\n",
       "         [1.        ],\n",
       "         [1.        ],\n",
       "         [1.        ],\n",
       "         [1.        ],\n",
       "         [1.        ],\n",
       "         [1.        ],\n",
       "         [1.        ],\n",
       "         [1.        ],\n",
       "         [1.        ],\n",
       "         [1.        ]],\n",
       "\n",
       "        [[1.        ],\n",
       "         [1.        ],\n",
       "         [1.        ],\n",
       "         [1.        ],\n",
       "         [1.        ],\n",
       "         [1.        ],\n",
       "         [1.        ],\n",
       "         [1.        ],\n",
       "         [1.        ],\n",
       "         [1.        ],\n",
       "         [1.        ],\n",
       "         [1.        ],\n",
       "         [1.        ],\n",
       "         [1.        ],\n",
       "         [1.        ],\n",
       "         [1.        ],\n",
       "         [1.        ],\n",
       "         [1.        ],\n",
       "         [1.        ],\n",
       "         [1.        ],\n",
       "         [1.        ],\n",
       "         [1.        ],\n",
       "         [1.        ],\n",
       "         [1.        ],\n",
       "         [1.        ],\n",
       "         [1.        ],\n",
       "         [1.        ],\n",
       "         [1.        ]]]], dtype=float32)"
      ]
     },
     "execution_count": 78,
     "metadata": {},
     "output_type": "execute_result"
    }
   ],
   "source": [
    "# Scale the image pixels by 255 (or use a scaler from sklearn here)\n",
    "image /= 255\n",
    "# image"
   ]
  },
  {
   "cell_type": "code",
   "execution_count": 69,
   "metadata": {},
   "outputs": [
    {
     "data": {
      "text/plain": [
       "(1, 784)"
      ]
     },
     "execution_count": 69,
     "metadata": {},
     "output_type": "execute_result"
    }
   ],
   "source": [
    "# Flatten into a 1x28*28 array \n",
    "img = image.flatten().reshape(-1, 28*28)\n",
    "img.shape"
   ]
  },
  {
   "cell_type": "code",
   "execution_count": 70,
   "metadata": {},
   "outputs": [
    {
     "data": {
      "text/plain": [
       "<matplotlib.image.AxesImage at 0x23d09366748>"
      ]
     },
     "execution_count": 70,
     "metadata": {},
     "output_type": "execute_result"
    },
    {
     "data": {
      "image/png": "[encoded data removed]",
      "text/plain": [
       "<Figure size 432x288 with 1 Axes>"
      ]
     },
     "metadata": {},
     "output_type": "display_data"
    }
   ],
   "source": [
    "plt.imshow(img.reshape(28, 28), cmap=plt.cm.Greys)"
   ]
  },
  {
   "cell_type": "code",
   "execution_count": 71,
   "metadata": {},
   "outputs": [
    {
     "data": {
      "text/plain": [
       "<matplotlib.image.AxesImage at 0x23d093b9b00>"
      ]
     },
     "execution_count": 71,
     "metadata": {},
     "output_type": "execute_result"
    },
    {
     "data": {
      "image/png": "[encoded data removed]",
      "text/plain": [
       "<Figure size 432x288 with 1 Axes>"
      ]
     },
     "metadata": {},
     "output_type": "display_data"
    }
   ],
   "source": [
    "# # Invert the pixel values to match the original data\n",
    "img = 1 - img\n",
    "plt.imshow(img.reshape(28, 28), cmap=plt.cm.Greys)"
   ]
  },
  {
   "cell_type": "code",
   "execution_count": 79,
   "metadata": {},
   "outputs": [],
   "source": [
    "# Make predictions\n",
    "pred = model.predict_classes(image)"
   ]
  },
  {
   "cell_type": "code",
   "execution_count": 80,
   "metadata": {},
   "outputs": [
    {
     "data": {
      "text/plain": [
       "17"
      ]
     },
     "execution_count": 80,
     "metadata": {},
     "output_type": "execute_result"
    }
   ],
   "source": [
    "pred[0]+1"
   ]
  },
  {
   "cell_type": "code",
   "execution_count": 81,
   "metadata": {},
   "outputs": [
    {
     "data": {
      "text/plain": [
       "'Q'"
      ]
     },
     "execution_count": 81,
     "metadata": {},
     "output_type": "execute_result"
    }
   ],
   "source": [
    "pred_letter = ascii_map[pred[0]+1] \n",
    "pred_letter"
   ]
  },
  {
   "cell_type": "code",
   "execution_count": null,
   "metadata": {},
   "outputs": [],
   "source": []
  },
  {
   "cell_type": "code",
   "execution_count": null,
   "metadata": {},
   "outputs": [],
   "source": []
  },
  {
   "cell_type": "code",
   "execution_count": null,
   "metadata": {},
   "outputs": [],
   "source": []
  }
 ],
 "metadata": {
  "kernelspec": {
   "display_name": "Python 3",
   "language": "python",
   "name": "python3"
  },
  "language_info": {
   "codemirror_mode": {
    "name": "ipython",
    "version": 3
   },
   "file_extension": ".py",
   "mimetype": "text/x-python",
   "name": "python",
   "nbconvert_exporter": "python",
   "pygments_lexer": "ipython3",
   "version": "3.6.5"
  }
 },
 "nbformat": 4,
 "nbformat_minor": 2
}
